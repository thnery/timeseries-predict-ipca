{
 "cells": [
  {
   "cell_type": "code",
   "execution_count": 1,
   "metadata": {},
   "outputs": [
    {
     "name": "stdout",
     "output_type": "stream",
     "text": [
      "TensorFlow Version: 1.11.0\n"
     ]
    }
   ],
   "source": [
    "import pandas as pd\n",
    "import numpy as np\n",
    "import tensorflow as tf\n",
    "import matplotlib.pyplot as plt\n",
    "\n",
    "from tensorflow import keras\n",
    "from tensorflow.keras.models import Sequential\n",
    "from tensorflow.keras.layers import LSTM\n",
    "from tensorflow.keras.layers import Dense, Dropout\n",
    "from sklearn.model_selection import train_test_split\n",
    "\n",
    "print(\"TensorFlow Version:\", tf.__version__)"
   ]
  },
  {
   "cell_type": "code",
   "execution_count": 2,
   "metadata": {},
   "outputs": [],
   "source": [
    "def get_data():\n",
    "    return pd.read_csv(\"./ipca.csv\", header=None, delimiter=\";\")"
   ]
  },
  {
   "cell_type": "code",
   "execution_count": 3,
   "metadata": {},
   "outputs": [
    {
     "data": {
      "text/plain": [
       "<matplotlib.axes._subplots.AxesSubplot at 0x1a33b8a748>"
      ]
     },
     "execution_count": 3,
     "metadata": {},
     "output_type": "execute_result"
    },
    {
     "data": {
      "image/png": "[encoded data removed]",
      "text/plain": [
       "<Figure size 432x288 with 1 Axes>"
      ]
     },
     "metadata": {},
     "output_type": "display_data"
    }
   ],
   "source": [
    "data = get_data()\n",
    "data.plot()"
   ]
  },
  {
   "cell_type": "code",
   "execution_count": 4,
   "metadata": {},
   "outputs": [
    {
     "data": {
      "text/html": [
       "<div>\n",
       "<style scoped>\n",
       "    .dataframe tbody tr th:only-of-type {\n",
       "        vertical-align: middle;\n",
       "    }\n",
       "\n",
       "    .dataframe tbody tr th {\n",
       "        vertical-align: top;\n",
       "    }\n",
       "\n",
       "    .dataframe thead th {\n",
       "        text-align: right;\n",
       "    }\n",
       "</style>\n",
       "<table border=\"1\" class=\"dataframe\">\n",
       "  <thead>\n",
       "    <tr style=\"text-align: right;\">\n",
       "      <th></th>\n",
       "      <th>t</th>\n",
       "      <th>t+1</th>\n",
       "    </tr>\n",
       "  </thead>\n",
       "  <tbody>\n",
       "    <tr>\n",
       "      <th>0</th>\n",
       "      <td>41.31</td>\n",
       "      <td>40.27</td>\n",
       "    </tr>\n",
       "    <tr>\n",
       "      <th>1</th>\n",
       "      <td>40.27</td>\n",
       "      <td>42.75</td>\n",
       "    </tr>\n",
       "    <tr>\n",
       "      <th>2</th>\n",
       "      <td>42.75</td>\n",
       "      <td>42.68</td>\n",
       "    </tr>\n",
       "    <tr>\n",
       "      <th>3</th>\n",
       "      <td>42.68</td>\n",
       "      <td>44.03</td>\n",
       "    </tr>\n",
       "    <tr>\n",
       "      <th>4</th>\n",
       "      <td>44.03</td>\n",
       "      <td>47.43</td>\n",
       "    </tr>\n",
       "  </tbody>\n",
       "</table>\n",
       "</div>"
      ],
      "text/plain": [
       "       t    t+1\n",
       "0  41.31  40.27\n",
       "1  40.27  42.75\n",
       "2  42.75  42.68\n",
       "3  42.68  44.03\n",
       "4  44.03  47.43"
      ]
     },
     "execution_count": 4,
     "metadata": {},
     "output_type": "execute_result"
    }
   ],
   "source": [
    "df = pd.DataFrame()\n",
    "df['t'] = data[1]\n",
    "df['t+1'] = df['t'].shift(-1)\n",
    "df.dropna(inplace=True)\n",
    "df.head()"
   ]
  },
  {
   "cell_type": "code",
   "execution_count": 5,
   "metadata": {},
   "outputs": [],
   "source": [
    "X, y = df.values[:, :-1], df.values[:, -1]\n",
    "train_data, test_data, train_labels, test_labels = train_test_split(X, y, test_size=0.33)"
   ]
  },
  {
   "cell_type": "code",
   "execution_count": 6,
   "metadata": {},
   "outputs": [],
   "source": [
    "# Normalize Data\n",
    "mean = train_data.mean(axis = 0)\n",
    "std = train_data.std(axis = 0)\n",
    "train_data = (train_data - mean) / std\n",
    "test_data = (test_data - mean) / std"
   ]
  },
  {
   "cell_type": "code",
   "execution_count": 7,
   "metadata": {},
   "outputs": [
    {
     "name": "stdout",
     "output_type": "stream",
     "text": [
      "_________________________________________________________________\n",
      "Layer (type)                 Output Shape              Param #   \n",
      "=================================================================\n",
      "dense (Dense)                (None, 64)                128       \n",
      "_________________________________________________________________\n",
      "dense_1 (Dense)              (None, 64)                4160      \n",
      "_________________________________________________________________\n",
      "dense_2 (Dense)              (None, 1)                 65        \n",
      "=================================================================\n",
      "Total params: 4,353\n",
      "Trainable params: 4,353\n",
      "Non-trainable params: 0\n",
      "_________________________________________________________________\n"
     ]
    }
   ],
   "source": [
    "# build model\n",
    "\n",
    "model = keras.Sequential()\n",
    "model.add(Dense(64, activation=tf.nn.relu, input_shape=(train_data.shape[1],)))\n",
    "model.add(Dense(64, activation=tf.nn.relu))\n",
    "model.add(Dense(1, activation='sigmoid'))\n",
    "\n",
    "optimizer = tf.train.RMSPropOptimizer(0.001)\n",
    "\n",
    "model.compile(loss='mse', optimizer=optimizer, metrics=['mae'])\n",
    "model.summary()"
   ]
  },
  {
   "cell_type": "code",
   "execution_count": 8,
   "metadata": {},
   "outputs": [
    {
     "name": "stdout",
     "output_type": "stream",
     "text": [
      "Train on 158 samples, validate on 40 samples\n",
      "Epoch 1/100\n",
      " - 0s - loss: 47.7626 - mean_absolute_error: 1.4160 - val_loss: 1.1052 - val_mean_absolute_error: 0.3749\n",
      "Epoch 2/100\n",
      " - 0s - loss: 47.5943 - mean_absolute_error: 1.4140 - val_loss: 1.0761 - val_mean_absolute_error: 0.3731\n",
      "Epoch 3/100\n",
      " - 0s - loss: 47.3833 - mean_absolute_error: 1.4114 - val_loss: 1.0473 - val_mean_absolute_error: 0.3713\n",
      "Epoch 4/100\n",
      " - 0s - loss: 47.2131 - mean_absolute_error: 1.4093 - val_loss: 1.0208 - val_mean_absolute_error: 0.3696\n",
      "Epoch 5/100\n",
      " - 0s - loss: 47.0402 - mean_absolute_error: 1.4071 - val_loss: 0.9960 - val_mean_absolute_error: 0.3681\n",
      "Epoch 6/100\n",
      " - 0s - loss: 46.9004 - mean_absolute_error: 1.4052 - val_loss: 0.9781 - val_mean_absolute_error: 0.3672\n",
      "Epoch 7/100\n",
      " - 0s - loss: 46.7635 - mean_absolute_error: 1.4034 - val_loss: 0.9646 - val_mean_absolute_error: 0.3666\n",
      "Epoch 8/100\n",
      " - 0s - loss: 46.6671 - mean_absolute_error: 1.4021 - val_loss: 0.9547 - val_mean_absolute_error: 0.3665\n",
      "Epoch 9/100\n",
      " - 0s - loss: 46.5965 - mean_absolute_error: 1.4011 - val_loss: 0.9487 - val_mean_absolute_error: 0.3666\n",
      "Epoch 10/100\n",
      " - 0s - loss: 46.5456 - mean_absolute_error: 1.4002 - val_loss: 0.9449 - val_mean_absolute_error: 0.3669\n",
      "Epoch 11/100\n",
      " - 0s - loss: 46.5109 - mean_absolute_error: 1.3996 - val_loss: 0.9422 - val_mean_absolute_error: 0.3674\n",
      "Epoch 12/100\n",
      " - 0s - loss: 46.4831 - mean_absolute_error: 1.3992 - val_loss: 0.9403 - val_mean_absolute_error: 0.3680\n",
      "Epoch 13/100\n",
      " - 0s - loss: 46.4652 - mean_absolute_error: 1.3988 - val_loss: 0.9391 - val_mean_absolute_error: 0.3686\n",
      "Epoch 14/100\n",
      " - 0s - loss: 46.4489 - mean_absolute_error: 1.3983 - val_loss: 0.9384 - val_mean_absolute_error: 0.3695\n",
      "Epoch 15/100\n",
      " - 0s - loss: 46.4376 - mean_absolute_error: 1.3978 - val_loss: 0.9380 - val_mean_absolute_error: 0.3706\n",
      "Epoch 16/100\n",
      " - 0s - loss: 46.4273 - mean_absolute_error: 1.3978 - val_loss: 0.9378 - val_mean_absolute_error: 0.3715\n",
      "Epoch 17/100\n",
      " - 0s - loss: 46.4200 - mean_absolute_error: 1.3972 - val_loss: 0.9379 - val_mean_absolute_error: 0.3730\n",
      "Epoch 18/100\n",
      " - 0s - loss: 46.4134 - mean_absolute_error: 1.3970 - val_loss: 0.9380 - val_mean_absolute_error: 0.3741\n",
      "Epoch 19/100\n",
      " - 0s - loss: 46.4082 - mean_absolute_error: 1.3966 - val_loss: 0.9382 - val_mean_absolute_error: 0.3754\n",
      "Epoch 20/100\n",
      " - 0s - loss: 46.4035 - mean_absolute_error: 1.3965 - val_loss: 0.9382 - val_mean_absolute_error: 0.3759\n",
      "Epoch 21/100\n",
      " - 0s - loss: 46.3994 - mean_absolute_error: 1.3953 - val_loss: 0.9386 - val_mean_absolute_error: 0.3771\n",
      "Epoch 22/100\n",
      " - 0s - loss: 46.3956 - mean_absolute_error: 1.3945 - val_loss: 0.9390 - val_mean_absolute_error: 0.3790\n",
      "Epoch 23/100\n",
      " - 0s - loss: 46.3920 - mean_absolute_error: 1.3939 - val_loss: 0.9394 - val_mean_absolute_error: 0.3806\n",
      "Epoch 24/100\n",
      " - 0s - loss: 46.3890 - mean_absolute_error: 1.3935 - val_loss: 0.9392 - val_mean_absolute_error: 0.3810\n",
      "Epoch 25/100\n",
      " - 0s - loss: 46.3859 - mean_absolute_error: 1.3916 - val_loss: 0.9396 - val_mean_absolute_error: 0.3828\n",
      "Epoch 26/100\n",
      " - 0s - loss: 46.3829 - mean_absolute_error: 1.3910 - val_loss: 0.9392 - val_mean_absolute_error: 0.3826\n",
      "Epoch 27/100\n",
      " - 0s - loss: 46.3803 - mean_absolute_error: 1.3904 - val_loss: 0.9377 - val_mean_absolute_error: 0.3797\n",
      "Epoch 28/100\n",
      " - 0s - loss: 46.3772 - mean_absolute_error: 1.3874 - val_loss: 0.9373 - val_mean_absolute_error: 0.3797\n",
      "Epoch 29/100\n",
      " - 0s - loss: 46.3746 - mean_absolute_error: 1.3855 - val_loss: 0.9371 - val_mean_absolute_error: 0.3800\n",
      "Epoch 30/100\n",
      " - 0s - loss: 46.3716 - mean_absolute_error: 1.3844 - val_loss: 0.9357 - val_mean_absolute_error: 0.3772\n",
      "Epoch 31/100\n",
      " - 0s - loss: 46.3685 - mean_absolute_error: 1.3821 - val_loss: 0.9342 - val_mean_absolute_error: 0.3743\n",
      "Epoch 32/100\n",
      " - 0s - loss: 46.3653 - mean_absolute_error: 1.3778 - val_loss: 0.9335 - val_mean_absolute_error: 0.3736\n",
      "Epoch 33/100\n",
      " - 0s - loss: 46.3616 - mean_absolute_error: 1.3748 - val_loss: 0.9329 - val_mean_absolute_error: 0.3730\n",
      "Epoch 34/100\n",
      " - 0s - loss: 46.3580 - mean_absolute_error: 1.3747 - val_loss: 0.9297 - val_mean_absolute_error: 0.3656\n",
      "Epoch 35/100\n",
      " - 0s - loss: 46.3541 - mean_absolute_error: 1.3686 - val_loss: 0.9287 - val_mean_absolute_error: 0.3639\n",
      "Epoch 36/100\n",
      " - 0s - loss: 46.3506 - mean_absolute_error: 1.3662 - val_loss: 0.9266 - val_mean_absolute_error: 0.3593\n",
      "Epoch 37/100\n",
      " - 0s - loss: 46.3462 - mean_absolute_error: 1.3617 - val_loss: 0.9263 - val_mean_absolute_error: 0.3592\n",
      "Epoch 38/100\n",
      " - 0s - loss: 46.3429 - mean_absolute_error: 1.3600 - val_loss: 0.9237 - val_mean_absolute_error: 0.3535\n",
      "Epoch 39/100\n",
      " - 0s - loss: 46.3389 - mean_absolute_error: 1.3567 - val_loss: 0.9208 - val_mean_absolute_error: 0.3472\n",
      "Epoch 40/100\n",
      " - 0s - loss: 46.3358 - mean_absolute_error: 1.3516 - val_loss: 0.9212 - val_mean_absolute_error: 0.3488\n",
      "Epoch 41/100\n",
      " - 0s - loss: 46.3322 - mean_absolute_error: 1.3539 - val_loss: 0.9153 - val_mean_absolute_error: 0.3352\n",
      "Epoch 42/100\n",
      " - 0s - loss: 46.3298 - mean_absolute_error: 1.3470 - val_loss: 0.9141 - val_mean_absolute_error: 0.3328\n",
      "Epoch 43/100\n",
      " - 0s - loss: 46.3272 - mean_absolute_error: 1.3429 - val_loss: 0.9149 - val_mean_absolute_error: 0.3351\n",
      "Epoch 44/100\n",
      " - 0s - loss: 46.3242 - mean_absolute_error: 1.3409 - val_loss: 0.9160 - val_mean_absolute_error: 0.3375\n",
      "Epoch 45/100\n",
      " - 0s - loss: 46.3232 - mean_absolute_error: 1.3406 - val_loss: 0.9172 - val_mean_absolute_error: 0.3397\n",
      "Epoch 46/100\n",
      " - 0s - loss: 46.3201 - mean_absolute_error: 1.3391 - val_loss: 0.9144 - val_mean_absolute_error: 0.3339\n",
      "Epoch 47/100\n",
      " - 0s - loss: 46.3181 - mean_absolute_error: 1.3378 - val_loss: 0.9108 - val_mean_absolute_error: 0.3261\n",
      "Epoch 48/100\n",
      " - 0s - loss: 46.3159 - mean_absolute_error: 1.3340 - val_loss: 0.9107 - val_mean_absolute_error: 0.3263\n",
      "Epoch 49/100\n",
      " - 0s - loss: 46.3160 - mean_absolute_error: 1.3326 - val_loss: 0.9125 - val_mean_absolute_error: 0.3302\n",
      "Epoch 50/100\n",
      " - 0s - loss: 46.3131 - mean_absolute_error: 1.3322 - val_loss: 0.9121 - val_mean_absolute_error: 0.3293\n",
      "Epoch 51/100\n",
      " - 0s - loss: 46.3119 - mean_absolute_error: 1.3309 - val_loss: 0.9111 - val_mean_absolute_error: 0.3269\n",
      "Epoch 52/100\n",
      " - 0s - loss: 46.3104 - mean_absolute_error: 1.3285 - val_loss: 0.9106 - val_mean_absolute_error: 0.3255\n",
      "Epoch 53/100\n",
      " - 0s - loss: 46.3094 - mean_absolute_error: 1.3277 - val_loss: 0.9124 - val_mean_absolute_error: 0.3292\n",
      "Epoch 54/100\n",
      " - 0s - loss: 46.3080 - mean_absolute_error: 1.3287 - val_loss: 0.9067 - val_mean_absolute_error: 0.3127\n",
      "Epoch 55/100\n",
      " - 0s - loss: 46.3079 - mean_absolute_error: 1.3270 - val_loss: 0.9074 - val_mean_absolute_error: 0.3151\n",
      "Epoch 56/100\n",
      " - 0s - loss: 46.3091 - mean_absolute_error: 1.3283 - val_loss: 0.9080 - val_mean_absolute_error: 0.3169\n",
      "Epoch 57/100\n",
      " - 0s - loss: 46.3070 - mean_absolute_error: 1.3245 - val_loss: 0.9100 - val_mean_absolute_error: 0.3221\n",
      "Epoch 58/100\n",
      " - 0s - loss: 46.3057 - mean_absolute_error: 1.3240 - val_loss: 0.9111 - val_mean_absolute_error: 0.3245\n",
      "Epoch 59/100\n",
      " - 0s - loss: 46.3053 - mean_absolute_error: 1.3257 - val_loss: 0.9077 - val_mean_absolute_error: 0.3156\n",
      "Epoch 60/100\n",
      " - 0s - loss: 46.3042 - mean_absolute_error: 1.3219 - val_loss: 0.9098 - val_mean_absolute_error: 0.3206\n",
      "Epoch 61/100\n",
      " - 0s - loss: 46.3039 - mean_absolute_error: 1.3235 - val_loss: 0.9087 - val_mean_absolute_error: 0.3179\n",
      "Epoch 62/100\n",
      " - 0s - loss: 46.3054 - mean_absolute_error: 1.3235 - val_loss: 0.9112 - val_mean_absolute_error: 0.3230\n",
      "Epoch 63/100\n",
      " - 0s - loss: 46.3038 - mean_absolute_error: 1.3240 - val_loss: 0.9096 - val_mean_absolute_error: 0.3198\n",
      "Epoch 64/100\n",
      " - 0s - loss: 46.3044 - mean_absolute_error: 1.3232 - val_loss: 0.9085 - val_mean_absolute_error: 0.3169\n",
      "Epoch 65/100\n",
      " - 0s - loss: 46.3039 - mean_absolute_error: 1.3209 - val_loss: 0.9093 - val_mean_absolute_error: 0.3190\n",
      "Epoch 66/100\n",
      " - 0s - loss: 46.3033 - mean_absolute_error: 1.3230 - val_loss: 0.9107 - val_mean_absolute_error: 0.3218\n",
      "Epoch 67/100\n",
      " - 0s - loss: 46.3024 - mean_absolute_error: 1.3222 - val_loss: 0.9085 - val_mean_absolute_error: 0.3173\n",
      "Epoch 68/100\n",
      " - 0s - loss: 46.3029 - mean_absolute_error: 1.3217 - val_loss: 0.9084 - val_mean_absolute_error: 0.3171\n",
      "Epoch 69/100\n",
      " - 0s - loss: 46.3027 - mean_absolute_error: 1.3237 - val_loss: 0.9083 - val_mean_absolute_error: 0.3168\n",
      "Epoch 70/100\n",
      " - 0s - loss: 46.3023 - mean_absolute_error: 1.3218 - val_loss: 0.9109 - val_mean_absolute_error: 0.3226\n"
     ]
    },
    {
     "name": "stdout",
     "output_type": "stream",
     "text": [
      "Epoch 71/100\n",
      " - 0s - loss: 46.3038 - mean_absolute_error: 1.3231 - val_loss: 0.9097 - val_mean_absolute_error: 0.3201\n",
      "Epoch 72/100\n",
      " - 0s - loss: 46.3018 - mean_absolute_error: 1.3212 - val_loss: 0.9092 - val_mean_absolute_error: 0.3191\n",
      "Epoch 73/100\n",
      " - 0s - loss: 46.3020 - mean_absolute_error: 1.3230 - val_loss: 0.9080 - val_mean_absolute_error: 0.3158\n",
      "Epoch 74/100\n",
      " - 0s - loss: 46.3024 - mean_absolute_error: 1.3232 - val_loss: 0.9130 - val_mean_absolute_error: 0.3272\n",
      "Epoch 75/100\n",
      " - 0s - loss: 46.3032 - mean_absolute_error: 1.3256 - val_loss: 0.9084 - val_mean_absolute_error: 0.3172\n",
      "Epoch 76/100\n",
      " - 0s - loss: 46.3014 - mean_absolute_error: 1.3223 - val_loss: 0.9082 - val_mean_absolute_error: 0.3164\n",
      "Epoch 77/100\n",
      " - 0s - loss: 46.3030 - mean_absolute_error: 1.3241 - val_loss: 0.9113 - val_mean_absolute_error: 0.3240\n",
      "Epoch 78/100\n",
      " - 0s - loss: 46.3014 - mean_absolute_error: 1.3225 - val_loss: 0.9080 - val_mean_absolute_error: 0.3156\n",
      "Epoch 79/100\n",
      " - 0s - loss: 46.3019 - mean_absolute_error: 1.3222 - val_loss: 0.9097 - val_mean_absolute_error: 0.3206\n",
      "Epoch 80/100\n",
      " - 0s - loss: 46.3044 - mean_absolute_error: 1.3277 - val_loss: 0.9093 - val_mean_absolute_error: 0.3197\n",
      "Epoch 81/100\n",
      " - 0s - loss: 46.3017 - mean_absolute_error: 1.3233 - val_loss: 0.9115 - val_mean_absolute_error: 0.3248\n",
      "Epoch 82/100\n",
      " - 0s - loss: 46.3018 - mean_absolute_error: 1.3236 - val_loss: 0.9087 - val_mean_absolute_error: 0.3181\n",
      "Epoch 83/100\n",
      " - 0s - loss: 46.3015 - mean_absolute_error: 1.3217 - val_loss: 0.9131 - val_mean_absolute_error: 0.3279\n",
      "Epoch 84/100\n",
      " - 0s - loss: 46.3023 - mean_absolute_error: 1.3254 - val_loss: 0.9091 - val_mean_absolute_error: 0.3190\n",
      "Epoch 85/100\n",
      " - 0s - loss: 46.3014 - mean_absolute_error: 1.3225 - val_loss: 0.9099 - val_mean_absolute_error: 0.3214\n",
      "Epoch 86/100\n",
      " - 0s - loss: 46.3022 - mean_absolute_error: 1.3231 - val_loss: 0.9140 - val_mean_absolute_error: 0.3297\n",
      "Epoch 87/100\n",
      " - 0s - loss: 46.3019 - mean_absolute_error: 1.3246 - val_loss: 0.9092 - val_mean_absolute_error: 0.3192\n",
      "Epoch 88/100\n",
      " - 0s - loss: 46.3022 - mean_absolute_error: 1.3239 - val_loss: 0.9126 - val_mean_absolute_error: 0.3272\n",
      "Epoch 89/100\n",
      " - 0s - loss: 46.3020 - mean_absolute_error: 1.3240 - val_loss: 0.9109 - val_mean_absolute_error: 0.3238\n",
      "Epoch 90/100\n",
      " - 0s - loss: 46.3014 - mean_absolute_error: 1.3229 - val_loss: 0.9097 - val_mean_absolute_error: 0.3208\n",
      "Epoch 91/100\n",
      " - 0s - loss: 46.3025 - mean_absolute_error: 1.3236 - val_loss: 0.9085 - val_mean_absolute_error: 0.3169\n",
      "Epoch 92/100\n",
      " - 0s - loss: 46.3020 - mean_absolute_error: 1.3238 - val_loss: 0.9094 - val_mean_absolute_error: 0.3200\n",
      "Epoch 93/100\n",
      " - 0s - loss: 46.3018 - mean_absolute_error: 1.3227 - val_loss: 0.9119 - val_mean_absolute_error: 0.3261\n",
      "Epoch 94/100\n",
      " - 0s - loss: 46.3008 - mean_absolute_error: 1.3226 - val_loss: 0.9094 - val_mean_absolute_error: 0.3198\n",
      "Epoch 95/100\n",
      " - 0s - loss: 46.3022 - mean_absolute_error: 1.3254 - val_loss: 0.9135 - val_mean_absolute_error: 0.3291\n",
      "Epoch 96/100\n",
      " - 0s - loss: 46.3016 - mean_absolute_error: 1.3240 - val_loss: 0.9140 - val_mean_absolute_error: 0.3300\n",
      "Epoch 97/100\n",
      " - 0s - loss: 46.3019 - mean_absolute_error: 1.3243 - val_loss: 0.9091 - val_mean_absolute_error: 0.3190\n",
      "Epoch 98/100\n",
      " - 0s - loss: 46.3009 - mean_absolute_error: 1.3227 - val_loss: 0.9110 - val_mean_absolute_error: 0.3244\n",
      "Epoch 99/100\n",
      " - 0s - loss: 46.3005 - mean_absolute_error: 1.3221 - val_loss: 0.9083 - val_mean_absolute_error: 0.3156\n",
      "Epoch 100/100\n",
      " - 0s - loss: 46.3008 - mean_absolute_error: 1.3215 - val_loss: 0.9201 - val_mean_absolute_error: 0.3406\n"
     ]
    }
   ],
   "source": [
    "history = model.fit(train_data, train_labels, epochs=100, validation_split=0.2, verbose=2)"
   ]
  },
  {
   "cell_type": "code",
   "execution_count": 9,
   "metadata": {},
   "outputs": [
    {
     "data": {
      "image/png": "[encoded data removed]",
      "text/plain": [
       "<Figure size 432x288 with 1 Axes>"
      ]
     },
     "metadata": {},
     "output_type": "display_data"
    }
   ],
   "source": [
    "plt.figure()\n",
    "plt.xlabel('Epoch')\n",
    "plt.ylabel('Mean Abs Error')\n",
    "plt.plot(history.epoch, np.array(history.history['mean_absolute_error']), label='Train Loss')\n",
    "plt.plot(history.epoch, np.array(history.history['val_mean_absolute_error']), label = 'Val loss')\n",
    "plt.legend()\n",
    "# plt.ylim([0, 5])\n",
    "plt.show()"
   ]
  },
  {
   "cell_type": "code",
   "execution_count": 10,
   "metadata": {},
   "outputs": [
    {
     "name": "stdout",
     "output_type": "stream",
     "text": [
      "Testing set Mean Abs Error: $   0.75\n"
     ]
    }
   ],
   "source": [
    "[loss, mae] = model.evaluate(test_data, test_labels, verbose=0)\n",
    "\n",
    "print(\"Testing set Mean Abs Error: ${:7.2f}\".format(mae))"
   ]
  },
  {
   "cell_type": "code",
   "execution_count": 11,
   "metadata": {},
   "outputs": [
    {
     "data": {
      "text/plain": [
       "(0.08079325310869458, 1.0582256550343487)"
      ]
     },
     "execution_count": 11,
     "metadata": {},
     "output_type": "execute_result"
    },
    {
     "data": {
      "image/png": "[encoded data removed]",
      "text/plain": [
       "<Figure size 432x288 with 1 Axes>"
      ]
     },
     "metadata": {},
     "output_type": "display_data"
    }
   ],
   "source": [
    "test_predictions = model.predict(test_data).flatten()\n",
    "\n",
    "plt.scatter(test_labels, test_predictions, c=np.random.rand(len(test_predictions)))\n",
    "plt.xlabel('True values')\n",
    "plt.ylabel('Predictions')\n",
    "plt.axis('normal')\n",
    "plt.xlim(plt.xlim())\n",
    "plt.ylim(plt.ylim())"
   ]
  },
  {
   "cell_type": "code",
   "execution_count": 12,
   "metadata": {},
   "outputs": [
    {
     "data": {
      "image/png": "[encoded data removed]",
      "text/plain": [
       "<Figure size 432x288 with 1 Axes>"
      ]
     },
     "metadata": {},
     "output_type": "display_data"
    }
   ],
   "source": [
    "error = test_predictions - test_labels\n",
    "plt.plot(error)\n",
    "plt.xlabel(\"Prediction Error\")\n",
    "plt.ylabel(\"Count\")\n",
    "plt.show()"
   ]
  },
  {
   "cell_type": "code",
   "execution_count": null,
   "metadata": {},
   "outputs": [],
   "source": []
  }
 ],
 "metadata": {
  "kernelspec": {
   "display_name": "Python 3",
   "language": "python",
   "name": "python3"
  },
  "language_info": {
   "codemirror_mode": {
    "name": "ipython",
    "version": 3
   },
   "file_extension": ".py",
   "mimetype": "text/x-python",
   "name": "python",
   "nbconvert_exporter": "python",
   "pygments_lexer": "ipython3",
   "version": "3.6.7"
  }
 },
 "nbformat": 4,
 "nbformat_minor": 2
}
